{
 "cells": [
  {
   "cell_type": "markdown",
   "id": "f15702a6",
   "metadata": {},
   "source": [
    "# DSCI-6650 Assignment 2"
   ]
  },
  {
   "cell_type": "markdown",
   "id": "c232ddd3",
   "metadata": {},
   "source": [
    "## Preliminaries"
   ]
  },
  {
   "cell_type": "code",
   "execution_count": 1,
   "id": "36902e9a",
   "metadata": {},
   "outputs": [],
   "source": [
    "from __future__ import annotations\n",
    "\n",
    "from copy import deepcopy\n",
    "from dataclasses import dataclass\n",
    "from enum import StrEnum\n",
    "from itertools import product\n",
    "from typing import TypeAlias\n",
    "\n",
    "import numpy as np\n",
    "import numpy.typing as npt\n",
    "import seaborn as sns\n",
    "from matplotlib import pyplot as plt\n",
    "from scipy.optimize import root, OptimizeResult\n"
   ]
  },
  {
   "cell_type": "markdown",
   "id": "9b524b51",
   "metadata": {},
   "source": [
    "### State Space"
   ]
  },
  {
   "cell_type": "markdown",
   "id": "d5d24a83",
   "metadata": {},
   "source": [
    "The state space of the gridworld can be represented by the set\n",
    "\n",
    "$$\n",
    "\\mathcal{S} := [0, 4] \\times [0, 4] = \\{(i, j) \\,|\\, i \\in [0, 4] \\wedge \\, j \\in [0, 4]\\},\n",
    "$$\n",
    "\n",
    "where $[a, b] \\subset \\mathbb{N}$, $a < b$, is just the set $\\{a, a + 1, \\ldots, b - 1, b\\}$. Here, the top-most row is enumerated as row 0, with the row index increasing as we move down; and the left-most column is enumerated as column 0, with the column index increasing as we move right.\n",
    "\n",
    "In this representation, each state is identified by the ordered pair $(i, j)$ of its row and column index.\n"
   ]
  },
  {
   "cell_type": "markdown",
   "id": "f81428cb",
   "metadata": {},
   "source": [
    "The following simple immutable data class is used to implement the concept of a state in this world:\n"
   ]
  },
  {
   "cell_type": "code",
   "execution_count": 2,
   "id": "7038c5a5",
   "metadata": {},
   "outputs": [],
   "source": [
    "@dataclass(frozen=True)\n",
    "class State:\n",
    "    row: int\n",
    "    col: int\n"
   ]
  },
  {
   "cell_type": "markdown",
   "id": "c2bce62c",
   "metadata": {},
   "source": [
    "Next, we define constants that specify the size of the grid. These will be used throughout the following.\n"
   ]
  },
  {
   "cell_type": "code",
   "execution_count": 3,
   "id": "1866380f",
   "metadata": {},
   "outputs": [],
   "source": [
    "NUM_ROWS: int = 5\n",
    "NUM_COLS: int = 5\n",
    "\n",
    "MIN_ROW: int = 0\n",
    "MAX_ROW: int = 4\n",
    "\n",
    "MIN_COL: int = 0\n",
    "MAX_COL: int =  4\n"
   ]
  },
  {
   "cell_type": "markdown",
   "id": "48d53c51",
   "metadata": {},
   "source": [
    "Finally, we implement the state space as a simple list of states and store that in global scope. This will be referenced throughout the rest of the code below.\n",
    "\n",
    "We also define a convenience function that maps a row and column index to a specific state, and another convenience function that maps a state to its index in the list of states.\n"
   ]
  },
  {
   "cell_type": "code",
   "execution_count": 4,
   "id": "c4965a16",
   "metadata": {},
   "outputs": [],
   "source": [
    "STATES: list[State] = [State(row, col) for row, col in product(range(NUM_ROWS), range(NUM_COLS))]\n",
    "\n",
    "\n",
    "def get_state(row: int, col: int) -> int:\n",
    "    for state in STATES:\n",
    "        if state.row == row and state.col == col:\n",
    "            return state\n",
    "    raise ValueError(f\"State ({row}, {col}) not found\")\n",
    "\n",
    "\n",
    "def get_state_index(state: State) -> int:\n",
    "    return STATES.index(state)\n"
   ]
  },
  {
   "cell_type": "markdown",
   "id": "76264fbd",
   "metadata": {},
   "source": [
    "### Action Space"
   ]
  },
  {
   "cell_type": "markdown",
   "id": "323c0f2f",
   "metadata": {},
   "source": [
    "We will denote the four possible actions by $\\text{up}$, $\\text{down}$, $\\text{left}$, and $\\text{right}$. Each state $s \\in \\mathcal{S}$ has the same action space, namely\n",
    "$$\n",
    "\\mathcal{A}(s) = \\mathcal{A} := \\{\\text{up}, \\text{down}, \\text{left}, \\text{right}\\}.\n",
    "$$\n",
    "\n",
    "We deliberately leave out a rigorous definition of the actions here, opting instead for a more intuitive, informal approach.\n"
   ]
  },
  {
   "cell_type": "code",
   "execution_count": 5,
   "id": "6623a679",
   "metadata": {},
   "outputs": [],
   "source": [
    "class Action(StrEnum):\n",
    "    UP = \"up\"\n",
    "    DOWN = \"down\"\n",
    "    LEFT = \"left\"\n",
    "    RIGHT = \"right\"\n"
   ]
  },
  {
   "cell_type": "markdown",
   "id": "8ab1cb71",
   "metadata": {},
   "source": [
    "We define convenience functions for mapping an action to its index in the list of actions generated from the enum, and for mapping an index to its associated action:\n"
   ]
  },
  {
   "cell_type": "code",
   "execution_count": 6,
   "id": "98807bcb",
   "metadata": {},
   "outputs": [],
   "source": [
    "def get_action_index(action: Action) -> int:\n",
    "    return list(Action).index(action)\n",
    "\n",
    "\n",
    "def get_action(index: int) -> Action:\n",
    "    return list(Action)[index]\n"
   ]
  },
  {
   "cell_type": "markdown",
   "id": "ce4b9584",
   "metadata": {},
   "source": [
    "Finally, we define a convenience function for determining the best action from a given state, based on the action values for that state. Ties are broken randomly, according to a uniform distribution.\n"
   ]
  },
  {
   "cell_type": "code",
   "execution_count": 7,
   "id": "beb07fbe",
   "metadata": {},
   "outputs": [],
   "source": [
    "def get_best_action(state: State, action_values: npt.NDArray[np.float64], rng: np.random.Generator) -> Action:\n",
    "    action_values_for_state: npt.NDArray[np.float64] = action_values[get_state_index(state), :]\n",
    "    max_action_value: np.float64 = np.max(action_values_for_state)\n",
    "    # Break ties randomly\n",
    "    candidate_action_indices: npt.NDArray[np.int64] = np.flatnonzero(action_values_for_state == max_action_value)\n",
    "    best_action_index: int = rng.choice([index for index in candidate_action_indices])\n",
    "    \n",
    "    return get_action(best_action_index)\n"
   ]
  },
  {
   "cell_type": "markdown",
   "id": "5a93c9f4",
   "metadata": {},
   "source": [
    "### Policies"
   ]
  },
  {
   "cell_type": "markdown",
   "id": "5e413698",
   "metadata": {},
   "source": [
    "The concept of a policy is, mathematically, a conditional probability distribution over the action space, conditional on the current state. The notation, $\\pi(a | s)$, while not standard probability theory notation, reflects this.\n",
    "\n",
    "The following class implements this concept, providing a means to either get the probability distribution across actions for any given state, or to select an action given a state according to the probability distribution. Instances of this class will be used for both purposes in what follows.\n"
   ]
  },
  {
   "cell_type": "code",
   "execution_count": 8,
   "id": "e37e5e86",
   "metadata": {},
   "outputs": [],
   "source": [
    "class Policy:\n",
    "    \n",
    "    def __init__(\n",
    "        self,\n",
    "        probability_distribution_map: dict[State, dict[Action, float]],\n",
    "        rng: np.random.Generator\n",
    "    ) -> None:\n",
    "        self._validate_probability_distribution_map(probability_distribution_map)\n",
    "        self.probability_distribution_map: dict[State, dict[Action, float]] = probability_distribution_map\n",
    "        self.rng: np.random.Generator = rng\n",
    "\n",
    "    def __eq__(self, other: Policy) -> bool:\n",
    "        return self.probability_distribution_map == other.probability_distribution_map\n",
    "\n",
    "    @classmethod\n",
    "    def _validate_probability_distribution_map(cls, probability_distribution_map: dict[State, dict[Action, float]]) -> None:\n",
    "        for state in STATES:\n",
    "            if state not in probability_distribution_map:\n",
    "                raise KeyError(f\"State {state} not in probability distribution map: {probability_distribution_map}\")\n",
    "        for _, probability_distribution in probability_distribution_map.items():\n",
    "            cls._validate_probability_distribution(probability_distribution)\n",
    "            \n",
    "    @classmethod\n",
    "    def _validate_probability_distribution(cls, probability_distribution: dict[Action, float]) -> None:\n",
    "        for action in Action:\n",
    "            if action not in probability_distribution:\n",
    "                raise KeyError(f\"Action {str(action)} not in probability distribution: {probability_distribution}\")\n",
    "        if not np.isclose(sum(probability_distribution.values()), 1.0):\n",
    "            raise ValueError(f\"Invalid probability distribution: {probability_distribution}\")\n",
    "\n",
    "    def update(self, state: State, probability_distribution: dict[Action, float]) -> None:\n",
    "        self._validate_probability_distribution(probability_distribution)\n",
    "        if state not in STATES:\n",
    "            raise ValueError(f\"Invalid state: {state}\")\n",
    "        self.probability_distribution_map[state] = probability_distribution\n",
    "            \n",
    "    def get_action(self, state: State) -> Action:\n",
    "        probability_distribution: dict[Action, float] = self.probability_distribution_map[state]\n",
    "        actions: list[Action] = list(probability_distribution.keys())\n",
    "        probabilities: list[float] = [probability_distribution[action] for action in actions]\n",
    "        return self.rng.choice(actions, p=probabilities)\n",
    "    \n",
    "    def get_probability(self, state: State, action) -> float:\n",
    "        return self.probability_distribution_map[state][action]\n",
    "    "
   ]
  },
  {
   "cell_type": "markdown",
   "id": "37b831b5",
   "metadata": {},
   "source": [
    "### Visualizations"
   ]
  },
  {
   "cell_type": "markdown",
   "id": "dc62a91c",
   "metadata": {},
   "source": [
    "Next, we define a convenience function for plotting the state values as a heat map:\n"
   ]
  },
  {
   "cell_type": "code",
   "execution_count": 9,
   "id": "63f0604e",
   "metadata": {},
   "outputs": [],
   "source": [
    "def plot_state_value_heat_map(state_value_vector: npt.NDArray[np.float64]) -> None:\n",
    "    plt.figure(figsize=(6, 5))\n",
    "    sns.heatmap(\n",
    "        state_value_vector.reshape((NUM_ROWS, NUM_COLS)),\n",
    "        annot=True,\n",
    "        fmt=\".2f\",\n",
    "        cmap=\"YlGnBu\",\n",
    "        cbar=True,\n",
    "        square=True,\n",
    "        linewidths=.5\n",
    "    )\n",
    "    plt.title(\"State Values\")\n",
    "    plt.xlabel(\"Column\")\n",
    "    plt.ylabel(\"Row\")\n",
    "    plt.show()\n"
   ]
  },
  {
   "cell_type": "markdown",
   "id": "11a656e5",
   "metadata": {},
   "source": [
    "We also define a function for plotting the policy along with the state value heat map. Arrows are overlaid on top of the heat map whose lengths indicate the relative probability of the each of the actions in each state.\n"
   ]
  },
  {
   "cell_type": "code",
   "execution_count": 10,
   "id": "1c4be8ff",
   "metadata": {},
   "outputs": [],
   "source": [
    "def plot_state_value_heat_map_with_policy(\n",
    "    state_value_vector: npt.NDArray[np.float64],\n",
    "    policy: Policy,\n",
    "    ignored_states: list[State] | None = None\n",
    ") -> None:\n",
    "    # Plot state values as a heat map\n",
    "    plt.figure(figsize=(6, 5))\n",
    "    sns.heatmap(\n",
    "        state_value_vector.reshape((NUM_ROWS, NUM_COLS)),\n",
    "        annot=True,\n",
    "        fmt=\".2f\",\n",
    "        cmap=\"YlGnBu\",\n",
    "        cbar=True,\n",
    "        square=True,\n",
    "        linewidths=.5\n",
    "    )\n",
    "    plt.title(\"State Values with Policy\")\n",
    "    plt.xlabel(\"Column\")\n",
    "    plt.ylabel(\"Row\")\n",
    "\n",
    "    # Represent actions as arrows\n",
    "    action_vectors: list[tuple[float, float]] = {\n",
    "        Action.UP: (-0.25, 0),\n",
    "        Action.DOWN: (0.25, 0),\n",
    "        Action.LEFT: (0, -0.25),\n",
    "        Action.RIGHT: (0, 0.25)\n",
    "    }\n",
    "\n",
    "    # Overlay arrows for the policy over the heat map\n",
    "    for state in STATES:\n",
    "        if ignored_states is not None and state in ignored_states:\n",
    "            continue\n",
    "        for action in Action:\n",
    "            probability: float = policy.get_probability(state, action)\n",
    "            if np.isclose(probability, 0.0):\n",
    "                continue\n",
    "            dy, dx = action_vectors[action]\n",
    "            plt.arrow(\n",
    "                state.col + 0.5,\n",
    "                state.row + 0.5,\n",
    "                dx * probability,\n",
    "                dy * probability,\n",
    "                head_width=0.1,\n",
    "                head_length=0.1,\n",
    "                fc='k',\n",
    "                ec='k',\n",
    "                alpha=0.75\n",
    "            )\n",
    "    \n",
    "    plt.show()\n"
   ]
  },
  {
   "cell_type": "markdown",
   "id": "162a3e6a",
   "metadata": {},
   "source": [
    "### Dynamics"
   ]
  },
  {
   "cell_type": "markdown",
   "id": "26bdddce",
   "metadata": {},
   "source": [
    "Finally, we define a constant for the discount factor $\\gamma$, which maintains a constant value of $0.95$ throughout what follows:\n"
   ]
  },
  {
   "cell_type": "code",
   "execution_count": 11,
   "id": "54a3462a",
   "metadata": {},
   "outputs": [],
   "source": [
    "DISCOUNT_FACTOR: float = 0.95\n"
   ]
  },
  {
   "cell_type": "markdown",
   "id": "7248b697",
   "metadata": {},
   "source": [
    "We also define a convergence threshold $\\Delta$, which is used to determine when the iterative algorithms implemented below have converged:\n"
   ]
  },
  {
   "cell_type": "code",
   "execution_count": 12,
   "id": "f0088a1b",
   "metadata": {},
   "outputs": [],
   "source": [
    "CONVERGENCE_THRESHOLD: float = 1e-6\n"
   ]
  },
  {
   "cell_type": "markdown",
   "id": "78f4fb54",
   "metadata": {},
   "source": [
    "## Part 1: No Terminal States"
   ]
  },
  {
   "cell_type": "markdown",
   "id": "f2f8762a",
   "metadata": {},
   "source": [
    "In order to evaluate the Bellman equation for the state-value function $v_{\\pi}(s) := \\mathbb{E}_{\\pi}[G_{t + 1} | S_t = s]$, written\n",
    "\n",
    "$$\n",
    "v_{\\pi}(s) = \\sum_{a \\in \\mathcal{A}} \\pi(a | s) \\sum_{s' \\in \\mathcal{S}, r \\in \\mathcal{R}} p(s', r | s, a)\n",
    "                   [r + \\gamma v_{\\pi}(s')],\n",
    "$$\n",
    "\n",
    "we need to define three missing pieces: the reward space $\\mathcal{R}$ from which the reward signal is drawn, the agent's decision-making logic via a policy $\\pi(a | s)$, and the environment's Markovian dynamics via the dynamics function $p(s', r | s, a)$.\n",
    "\n",
    "In the present case, the reward space is the set\n",
    "\n",
    "$$\n",
    "\\mathcal{R} := \\{-0.5, 0, 2.5, 5\\}.\n",
    "$$\n",
    "\n",
    "We will leave the policy to either be specified in the subproblems below, or as something to be determined.\n",
    "\n",
    "Finally, we define the environment's Markovian dynamics. For convenience, we introduce some notation for the four special states:\n",
    "\n",
    "\\begin{align*}\n",
    "  \\text{blue} :=&\\, (0, 1), \\\\\n",
    " \\text{green} :=&\\, (0, 4), \\\\\n",
    "   \\text{red} :=&\\, (3, 2), \\,\\text{and} \\\\\n",
    "\\text{yellow} :=&\\, (4, 4).\n",
    "\\end{align*}\n"
   ]
  },
  {
   "cell_type": "markdown",
   "id": "4e800c40",
   "metadata": {},
   "source": [
    "We also define constants that we will use later when implementing the solution algorithms:"
   ]
  },
  {
   "cell_type": "code",
   "execution_count": 13,
   "id": "553fbd8a",
   "metadata": {},
   "outputs": [],
   "source": [
    "BLUE: State = get_state(0, 1)\n",
    "GREEN: State = get_state(0, 4)\n",
    "RED: State = get_state(3, 2)\n",
    "YELLOW: State = get_state(4, 4)\n"
   ]
  },
  {
   "cell_type": "markdown",
   "id": "b3a3ce77",
   "metadata": {},
   "source": [
    "The dynamics function $p(s', r | s, a)$ can then be defined via the following table:\n",
    "\n",
    "| $s$             | $a$            | $s'$            | $r$    | $p$   |\n",
    "|:---------------:|:--------------:|:---------------:|:------:|:-----:|\n",
    "| $\\text{blue}$   | $\\text{up}$    | $\\text{red}$    | $5$    | $1$   |\n",
    "| $\\text{blue}$   | $\\text{down}$  | $\\text{red}$    | $5$    | $1$   |\n",
    "| $\\text{blue}$   | $\\text{left}$  | $\\text{red}$    | $5$    | $1$   |\n",
    "| $\\text{blue}$   | $\\text{right}$ | $\\text{red}$    | $5$    | $1$   |\n",
    "| $\\text{green}$  | $\\text{up}$    | $\\text{red}$    | $2.5$  | $0.5$ |\n",
    "| $\\text{green}$  | $\\text{down}$  | $\\text{red}$    | $2.5$  | $0.5$ |\n",
    "| $\\text{green}$  | $\\text{left}$  | $\\text{red}$    | $2.5$  | $0.5$ |\n",
    "| $\\text{green}$  | $\\text{right}$ | $\\text{red}$    | $2.5$  | $0.5$ |\n",
    "| $\\text{green}$  | $\\text{up}$    | $\\text{yellow}$ | $2.5$  | $0.5$ |\n",
    "| $\\text{green}$  | $\\text{down}$  | $\\text{yellow}$ | $2.5$  | $0.5$ |\n",
    "| $\\text{green}$  | $\\text{left}$  | $\\text{yellow}$ | $2.5$  | $0.5$ |\n",
    "| $\\text{green}$  | $\\text{right}$ | $\\text{yellow}$ | $2.5$  | $0.5$ |\n",
    "| $(0, j)$        | $\\text{up}$    | $(0, j)$        | $-0.5$ | $1$   |\n",
    "| $(4, j)$        | $\\text{down}$  | $(4, j)$        | $-0.5$ | $1$   |\n",
    "| $(i, 0)$        | $\\text{left}$  | $(i, 0)$        | $-0.5$ | $1$   |\n",
    "| $(i, 4)$        | $\\text{right}$ | $(i, 4)$        | $-0.5$ | $1$   |\n",
    "| $(i, j)$        | $\\text{up}$    | $(i - 1, j)$    | $0$    | $1$   |\n",
    "| $(i, j)$        | $\\text{down}$  | $(i + 1, j)$    | $0$    | $1$   |\n",
    "| $(i, j)$        | $\\text{left}$  | $(i, j - 1)$    | $0$    | $1$   |\n",
    "| $(i, j)$        | $\\text{right}$ | $(i, j + 1)$    | $0$    | $1$   |\n",
    "\n",
    "There is some redundancy here since, for example, $s = \\text{blue}$ is a special case of $s = (0, j)$ where $j = 1$, so we establish an order of precedence where higher rows override lower rows.\n",
    "\n",
    "It should also be noted that any choices of $(s', r, s, a)$ not listed have $p(s', r | s, a) = 0$, and can be safely ignored.\n"
   ]
  },
  {
   "cell_type": "markdown",
   "id": "eb7834f7",
   "metadata": {},
   "source": [
    "We define an implementation of this dynamics table as follows:\n"
   ]
  },
  {
   "cell_type": "code",
   "execution_count": 14,
   "id": "597057ef",
   "metadata": {},
   "outputs": [],
   "source": [
    "DynamicsTable: TypeAlias = list[tuple[State, Action, State, float, float]]\n",
    "\n",
    "\n",
    "def get_standard_transition(state: State, action: Action) -> State:\n",
    "    match action:\n",
    "        case Action.UP:\n",
    "            return get_state(state.row - 1, state.col)\n",
    "        case Action.DOWN:\n",
    "            return get_state(state.row + 1, state.col)\n",
    "        case Action.LEFT:\n",
    "            return get_state(state.row, state.col - 1)\n",
    "        case Action.RIGHT:\n",
    "            return get_state(state.row, state.col + 1)\n",
    "\n",
    "\n",
    "def get_dynamics_table(standard_transition_reward: float) -> DynamicsTable:\n",
    "    table: DynamicsTable = [\n",
    "        *[(BLUE, action, RED, 5.0, 1.0) for action in list(Action)],\n",
    "        *[(GREEN, action, RED, 2.5, 0.5) for action in list(Action)],\n",
    "        *[(GREEN, action, YELLOW, 2.5, 0.5) for action in list(Action)]\n",
    "    ]\n",
    "\n",
    "    for col in range(NUM_COLS):\n",
    "        state: State = get_state(MIN_ROW, col)\n",
    "        if any(record[0] == state and record[1] == Action.UP for record in table):\n",
    "            continue\n",
    "        table.append((state, Action.UP, state, -0.5, 1.0))\n",
    "    \n",
    "    for col in range(NUM_COLS):\n",
    "        state: State = get_state(MAX_ROW, col)\n",
    "        if any(record[0] == state and record[1] == Action.DOWN for record in table):\n",
    "            continue\n",
    "        table.append((state, Action.DOWN, state, -0.5, 1.0))\n",
    "\n",
    "    for row in range(NUM_ROWS):\n",
    "        state: State = get_state(row, MIN_COL)\n",
    "        if any(record[0] == state and record[1] == Action.LEFT for record in table):\n",
    "            continue\n",
    "        table.append((state, Action.LEFT, state, -0.1, 1.0))\n",
    "\n",
    "    for row in range(NUM_ROWS):\n",
    "        state: State = get_state(row, MAX_COL)\n",
    "        if any(record[0] == state and record[1] == Action.RIGHT for record in table):\n",
    "            continue\n",
    "        table.append((state, Action.RIGHT, state, -0.1, 1.0))\n",
    "\n",
    "    for row in range(NUM_ROWS):\n",
    "        for col in range(NUM_COLS):\n",
    "            state: State = get_state(row, col)\n",
    "            for action in list(Action):\n",
    "                if any(record[0] == state and record[1] == action for record in table):\n",
    "                    continue\n",
    "                table.append((state, action, get_standard_transition(state, action), standard_transition_reward, 1.0))\n",
    "    \n",
    "    return table\n"
   ]
  },
  {
   "cell_type": "markdown",
   "id": "62d9c1ad",
   "metadata": {},
   "source": [
    "To avoid recomputing the table when it is needed, we compute it once and store the result in a constant for reuse:\n"
   ]
  },
  {
   "cell_type": "code",
   "execution_count": 15,
   "id": "62b24a09",
   "metadata": {},
   "outputs": [],
   "source": [
    "DYNAMICS_TABLE: DynamicsTable = get_dynamics_table(0.0)\n"
   ]
  },
  {
   "cell_type": "markdown",
   "id": "b23d68bc",
   "metadata": {},
   "source": [
    "### 1.1.1: Solving the Bellman Equations Explicitly"
   ]
  },
  {
   "cell_type": "markdown",
   "id": "7f339059",
   "metadata": {},
   "source": [
    "Here, the agent's policy is defined as follows: for any given state $s \\in \\mathcal{S}$, the agent just chooses randomly among the four options with uniform probability:\n",
    "\n",
    "$$\n",
    "\\forall s \\in \\mathcal{S}: \\forall a \\in \\mathcal{A}: \\pi(a | s) := \\frac{1}{|\\mathcal{A}|} = \\frac{1}{4}.\n",
    "$$\n",
    "\n",
    "Returning to the Bellman equations for the state-value function, \n",
    "\n",
    "$$\n",
    "v_{\\pi}(s) = \\sum_{a \\in \\mathcal{A}} \\pi(a | s) \\sum_{s' \\in \\mathcal{S}, r \\in \\mathcal{R}} p(s', r | s, a)\n",
    "                   [r + \\gamma v_{\\pi}(s')]\n",
    "           = \\frac{1}{4} \\sum_{a, s', r} p(s', r | s, a) [r + \\gamma v_{\\pi}(s')],\n",
    "$$\n",
    "\n",
    "we first rewrite it as follows:\n",
    "\n",
    "$$\n",
    "v_{\\pi}(s) = r_{\\pi}(s) + \\gamma \\sum_{s'}P_{\\pi}(s, s') v_{\\pi}(s'),\n",
    "$$\n",
    "\n",
    "where we have introduced two new functions\n",
    "\n",
    "$$\n",
    "r_{\\pi}(s) := \\frac{1}{4} \\sum_{a, s', r} p(s', r | s, a) r,\n",
    "$$\n",
    "\n",
    "which is just $\\mathbb{E}[R_{t + 1} | S_t = s, \\pi]$, and\n",
    "\n",
    "$$\n",
    "P_{\\pi}(s, s') := \\frac{1}{4} \\sum_{a, r} p(s', r | s, a),\n",
    "$$\n",
    "\n",
    "which gives the probability of transitioning from state $s \\in \\mathcal{S}$ to state $s' \\in \\mathcal{S}$ under policy $\\pi$.\n",
    "\n",
    "Enumerating the states $s_0 = (0, 0)$, $s_1 = (1, 0)$, $\\ldots$, $s_{24} = (4, 4)$, we can define vectors\n",
    "\n",
    "$$\n",
    "\\mathbf{v}_{\\pi} = \\begin{bmatrix}\n",
    "v_{\\pi}(s_0) \\\\\n",
    "v_{\\pi}(s_1) \\\\\n",
    "\\vdots \\\\\n",
    "v_{\\pi}(s_{24})\n",
    "\\end{bmatrix}\n",
    "\n",
    "\\quad \\text{and} \\quad\n",
    "\n",
    "\\mathbf{r}_{\\pi} = \\begin{bmatrix}\n",
    "r_{\\pi}(s_0) \\\\\n",
    "r_{\\pi}(s_1) \\\\\n",
    "\\vdots \\\\\n",
    "r_{\\pi}(s_{24}) \\\\\n",
    "\\end{bmatrix},\n",
    "$$\n",
    "\n",
    "along with a matrix\n",
    "\n",
    "$$\n",
    "\\mathbf{P}_{\\pi} = \\begin{bmatrix}\n",
    "P_{\\pi}(s_0, s_0) & P_{\\pi}(s_0, s_1) & \\cdots & P_{\\pi}(s_0, s_{24}) \\\\\n",
    "P_{\\pi}(s_1, s_0) & P_{\\pi}(s_1, s_1) & \\cdots & P_{\\pi}(s_1, s_{24}) \\\\\n",
    "\\vdots            & \\vdots            & \\ddots & \\vdots \\\\\n",
    "P_{\\pi}(s_{24}, s_0) & P_{\\pi}(s_{24}, s_1) & \\cdots & P_{\\pi}(s_{24}, s_{24}) \\\\\n",
    "\\end{bmatrix},\n",
    "$$\n",
    "\n",
    "which we can use to write the Bellman equations in matrix form as\n",
    "\n",
    "$$\n",
    "\\mathbf{v}_{\\pi} = \\mathbf{r}_{\\pi} + \\gamma \\mathbf{P}_{\\pi} \\mathbf{v}_{\\pi}.\n",
    "$$\n",
    "\n",
    "Rearranging this gives\n",
    "\n",
    "$$\n",
    "(\\mathbf{I} - \\gamma \\mathbf{P}_{\\pi}) \\mathbf{v}_{\\pi} = \\mathbf{r}_{\\pi},\n",
    "$$\n",
    "\n",
    "which formulates the problem in a form that lends itself to straightforward implementation.\n"
   ]
  },
  {
   "cell_type": "markdown",
   "id": "8ee6fd12",
   "metadata": {},
   "source": [
    "As a first step in explicitly solving the state value Bellman equations, we define two utility functions which take the table that defines the dynamics function $p(s', r | s, a)$ as input and give back the transition matrix $\\mathbf{P}_{\\pi}$ and the expected reward vector $\\mathbf{r}_{\\pi}$:"
   ]
  },
  {
   "cell_type": "code",
   "execution_count": 16,
   "id": "c62c3e5a",
   "metadata": {},
   "outputs": [],
   "source": [
    "def get_transition_matrix(dynamics_table: DynamicsTable) -> npt.NDArray[np.float64]:\n",
    "    matrix: npt.NDArray[np.float64] = np.zeros((len(STATES), len(STATES)), dtype=np.float64)\n",
    "\n",
    "    for row, state in enumerate(STATES):\n",
    "        for col, next_state in enumerate(STATES):\n",
    "            records: DynamicsTable = [\n",
    "                record for record in dynamics_table if record[0] == state and record[2] == next_state\n",
    "            ]\n",
    "            matrix[row, col] = 0.25 * sum(record[4] for record in records)\n",
    "\n",
    "    return matrix\n",
    "\n",
    "\n",
    "def get_expected_reward_vector(dynamics_table: DynamicsTable) -> npt.NDArray[np.float64]:\n",
    "    vector: npt.NDArray[np.float64] = np.zeros(len(STATES), dtype=np.float64)\n",
    "\n",
    "    for index, state in enumerate(STATES):\n",
    "        records: DynamicsTable = [\n",
    "            record for record in dynamics_table if record[0] == state\n",
    "        ]\n",
    "        vector[index] = 0.25 * sum(record[4] * record[3] for record in records)\n",
    "\n",
    "    return vector\n"
   ]
  },
  {
   "cell_type": "markdown",
   "id": "31372a18",
   "metadata": {},
   "source": [
    "Next, we define a function, which, admittedly, is just a wrapper around the linear solver `np.linalg.solve`, that we will use to compute the state-value vector (i.e., function) using the above implementation:\n"
   ]
  },
  {
   "cell_type": "code",
   "execution_count": 17,
   "id": "26a98d51",
   "metadata": {},
   "outputs": [],
   "source": [
    "def solve_bellman_equations(\n",
    "    transition_matrix: npt.NDArray[np.float64],\n",
    "    expected_reward_vector: npt.NDArray[np.float64],\n",
    "    discount_factor: float\n",
    ") -> npt.NDArray[np.float64]:\n",
    "    return np.linalg.solve(\n",
    "        np.eye(len(STATES)) - discount_factor * transition_matrix,\n",
    "        expected_reward_vector\n",
    "    )\n"
   ]
  },
  {
   "cell_type": "markdown",
   "id": "9db156c2",
   "metadata": {},
   "source": [
    "Finally, we use the code above to solve the Bellman equations for the given policy $\\pi$:\n"
   ]
  },
  {
   "cell_type": "code",
   "execution_count": 18,
   "id": "40ab2c09",
   "metadata": {},
   "outputs": [],
   "source": [
    "state_value_vector_exact: npt.NDArray[np.float64] = solve_bellman_equations(\n",
    "    get_transition_matrix(DYNAMICS_TABLE),\n",
    "    get_expected_reward_vector(DYNAMICS_TABLE),\n",
    "    DISCOUNT_FACTOR\n",
    ")\n"
   ]
  },
  {
   "cell_type": "markdown",
   "id": "39108cb1",
   "metadata": {},
   "source": [
    "We use the above convenience function to visualize the state values as a heat map:\n"
   ]
  },
  {
   "cell_type": "code",
   "execution_count": 19,
   "id": "56b86a9b",
   "metadata": {},
   "outputs": [
    {
     "data": {
      "image/png": "[encoded data removed]",
      "text/plain": [
       "<Figure size 600x500 with 2 Axes>"
      ]
     },
     "metadata": {},
     "output_type": "display_data"
    }
   ],
   "source": [
    "plot_state_value_heat_map(state_value_vector_exact)\n"
   ]
  },
  {
   "cell_type": "markdown",
   "id": "13d81f6b",
   "metadata": {},
   "source": [
    "As expected, the blue state has the highest value. Per the specification, taking any action from this state results in a reward of $5$, the largest possible reward the environment can supply.\n",
    "\n",
    "The left and right neighbours of the blue state rank second and third, respectively. This, too, seems expected, since there's a relatively high probability that the blue state will be reached in a small number of steps.\n",
    "\n",
    "The green state ranks fourth. This makes sense since the environment guarantees a reward of $2.5$ on any action from this state, which is the only other positive reward aside from acting from the blue state that the agent can receive.\n",
    "\n",
    "As distance from the blue and green states increases, the state-value decreases, becoming negative in the bottom row. This makes sense since: 1) it seems likely that the agent will end up attempting to leave the grid multiple times before making its way to the blue or green states and receiving a positive reward; and 2) if the blue or green states are reached, it's likely to take a relatively large number of steps before that happens, so that the reward received upon finally reaching them is largely discounted.\n"
   ]
  },
  {
   "cell_type": "markdown",
   "id": "df99a4e4",
   "metadata": {},
   "source": [
    "### 1.1.2: Solving the Bellman Equations Using Iterative Policy Evaluation"
   ]
  },
  {
   "cell_type": "markdown",
   "id": "521bda84",
   "metadata": {},
   "source": [
    "Instead of solving the system of Bellman equations exactly for our uniform policy $\\pi$, an alternative method for determining the state-value function $v_{\\pi}$ is to start from an initial guess for $v_{\\pi}$, which we denote $v_0$, and iteratively approach $v_{\\pi}$ using the Bellman equations as an update rule. Using this approach, for each $k \\in \\{1, 2, \\ldots, K\\}$, where $K$ is some unknown constant at which we decide the sequence $(v_0, v_1, \\ldots, v_{K + 1})$ has converged, we use the following update rule:\n",
    "\n",
    "\\begin{align*}\n",
    "v_{k + 1}(s) :=&\\, \\mathbb{E}_{\\pi}[R_{t + 1} + \\gamma v_k(S_{t + 1}) | S_t = s] \\\\\n",
    "              =&\\, \\sum_a \\pi(a | s) \\sum_{s', r} p(s', r | s, a) [r + \\gamma v_k(s')] \\\\\n",
    "              =&\\, \\frac{1}{4} \\sum_{a, s', r} p(s', r | s, a) [r + \\gamma v_k(s')] \\\\\n",
    "              =&\\, r_{\\pi}(s) + \\gamma \\sum_{s'}P_{\\pi}(s, s') v_k(s').\n",
    "\\end{align*}\n",
    "\n",
    "Similar to what we did above, we can write this in vector form as\n",
    "\n",
    "$$\n",
    "\\mathbf{v}_{k + 1} = \\mathbf{r}_{\\pi} + \\gamma \\mathbf{P}_{\\pi} v_k,\n",
    "$$\n",
    "\n",
    "where $\\mathbf{r}_{\\pi}$ is the expected reward vector and $\\mathbf{P}_{\\pi}$ is the transition matrix, as defined above.\n"
   ]
  },
  {
   "cell_type": "markdown",
   "id": "6342a22e",
   "metadata": {},
   "source": [
    "The following implements this iterative procedure, considering the sequence converged when $\\|v_{k + 1} - v_k\\|_{\\infty} < \\theta$ for some convergence threshold $\\theta \\in \\mathbb{R}$:\n"
   ]
  },
  {
   "cell_type": "code",
   "execution_count": 20,
   "id": "3c52a2b6",
   "metadata": {},
   "outputs": [],
   "source": [
    "def do_iterative_policy_evaluation(\n",
    "    initial_state_value_vector: npt.NDArray[np.float64],\n",
    "    transition_matrix: npt.NDArray[np.float64],\n",
    "    expected_reward_vector: npt.NDArray[np.float64],\n",
    "    discount_factor: float,\n",
    "    convergence_threshold: float\n",
    ") -> npt.NDArray[np.float64]:\n",
    "    state_value_vector_iter: npt.NDArray[np.float64] = initial_state_value_vector.copy()\n",
    "    state_value_vector_temp: npt.NDArray[np.float64] = state_value_vector_iter.copy()\n",
    "\n",
    "    while True:\n",
    "        state_value_vector_iter = expected_reward_vector \\\n",
    "            + discount_factor * transition_matrix @ state_value_vector_temp\n",
    "        if np.max(np.abs(state_value_vector_iter - state_value_vector_temp)) < convergence_threshold:\n",
    "            break\n",
    "        state_value_vector_temp = state_value_vector_iter.copy()\n",
    "    \n",
    "    return state_value_vector_iter\n"
   ]
  },
  {
   "cell_type": "markdown",
   "id": "2f4bf49f",
   "metadata": {},
   "source": [
    "We use this implementation to compute $v_{\\pi}$, starting from an initial guess $\\mathbf{v}_0 = \\mathbf{0}$:\n"
   ]
  },
  {
   "cell_type": "code",
   "execution_count": 21,
   "id": "a5c33d6d",
   "metadata": {},
   "outputs": [],
   "source": [
    "initial_state_value_vector: npt.NDArray[np.float64] = np.zeros(len(STATES), dtype=np.float64)\n",
    "\n",
    "state_value_vector_iter: npt.NDArray[np.float64] = do_iterative_policy_evaluation(\n",
    "    initial_state_value_vector,\n",
    "    get_transition_matrix(DYNAMICS_TABLE),\n",
    "    get_expected_reward_vector(DYNAMICS_TABLE),\n",
    "    DISCOUNT_FACTOR,\n",
    "    CONVERGENCE_THRESHOLD\n",
    ")\n"
   ]
  },
  {
   "cell_type": "markdown",
   "id": "4413fea0",
   "metadata": {},
   "source": [
    "Finally, we visualize the results:\n"
   ]
  },
  {
   "cell_type": "code",
   "execution_count": 22,
   "id": "0cfc7f99",
   "metadata": {},
   "outputs": [
    {
     "data": {
      "image/png": "[encoded data removed]",
      "text/plain": [
       "<Figure size 600x500 with 2 Axes>"
      ]
     },
     "metadata": {},
     "output_type": "display_data"
    }
   ],
   "source": [
    "plot_state_value_heat_map(state_value_vector_iter)\n"
   ]
  },
  {
   "cell_type": "markdown",
   "id": "5462fcdb",
   "metadata": {},
   "source": [
    "Comparing this with the solution in part 1.1.1, we see that the two methods yield the same result.\n"
   ]
  },
  {
   "cell_type": "markdown",
   "id": "1dc7bd28",
   "metadata": {},
   "source": [
    "### 1.2.1: Explicitly Solving the Bellman Optimality Equations"
   ]
  },
  {
   "cell_type": "markdown",
   "id": "e492caf5",
   "metadata": {},
   "source": [
    "The Bellman optimality equations for the state-value function are given by, $\\forall s \\in \\mathcal{S}$,\n",
    "\n",
    "\\begin{align*}\n",
    "v_*(s) :=&\\, \\max_{a \\in \\mathcal{A}} \\mathbb{E}_{\\pi_*}[R_{t + 1} + \\gamma v_*(S_{t + 1}) | S_t = s, A_t = a] \\\\\n",
    "        =&\\, \\max_a \\sum_{s' \\in \\mathcal{S}, r \\in \\mathcal{R}} p(s', r | s, a)[r + \\gamma v_*(s')].\n",
    "\\end{align*}\n",
    "\n",
    "Similar to what we did above, we can rewrite this as\n",
    "\n",
    "$$\n",
    "v_*(s) = \\max_a \\left(r(s, a) + \\gamma \\sum_{s'} P(s', s, a) v_*(s')\\right),\n",
    "$$\n",
    "\n",
    "where, abusing notation slightly,\n",
    "\n",
    "$$\n",
    "r(s, a) := \\sum_{s', r} p(s', r | s, a) r,\n",
    "$$\n",
    "\n",
    "and\n",
    "\n",
    "$$\n",
    "P(s', s, a) := \\sum_r p(s', r | s, a).\n",
    "$$\n",
    "\n",
    "Defining a vector $\\mathbf{v}_*$ and vector-valued function $\\mathbf{r} : \\mathcal{A} \\to \\mathbb{R}^{|\\mathcal{S}|}$,\n",
    "\n",
    "$$\n",
    "\\mathbf{v}_* := \\begin{bmatrix}\n",
    "v_*(s_0) \\\\\n",
    "v_*(s_1) \\\\\n",
    "\\vdots \\\\\n",
    "v_*(s_{24})\n",
    "\\end{bmatrix}\n",
    "\n",
    "\\quad \\text{and} \\quad\n",
    "\n",
    "\\mathbf{r}(a) := \\begin{bmatrix}\n",
    "r(s_0, a) \\\\\n",
    "r(s_1, a) \\\\\n",
    "\\vdots \\\\\n",
    "r(s_{24}, a) \\\\\n",
    "\\end{bmatrix},\n",
    "$$\n",
    "\n",
    "along with a matrix-valued function $\\mathbf{P} : \\mathcal{A} \\to \\mathbb{R}^{|\\mathcal{S}| \\times |\\mathcal{S}|}$,\n",
    "\n",
    "$$\n",
    "\\mathbf{P}(a) := \\begin{bmatrix}\n",
    "P(s_0, s_0, a)    & P(s_0, s_1, a)    & \\cdots & P(s_0, s_{24}, a) \\\\\n",
    "P(s_1, s_0, a)    & P(s_1, s_1, a)    & \\cdots & P(s_1, s_{24}, a) \\\\\n",
    "\\vdots            & \\vdots            & \\ddots & \\vdots \\\\\n",
    "P(s_{24}, s_0, a) & P(s_{24}, s_1, a) & \\cdots & P(s_{24}, s_{24}, a) \\\\\n",
    "\\end{bmatrix},\n",
    "$$\n",
    "\n",
    "we can write the Bellman optimality equations in vector form as\n",
    "\n",
    "$$\n",
    "\\mathbf{v}_* = \\max_a \\left(\\mathbf{r}(a) + \\gamma \\mathbf{P}(a)\\mathbf{v}_*\\right),\n",
    "$$\n",
    "\n",
    "where we remember that the $\\max_a$ is a row-wise maximum that applies separately to each row in the vector $\\mathbf{r}(a) + \\gamma \\mathbf{P}(a)\\mathbf{v}_*$.\n",
    "\n",
    "Written in this form, solving the Bellman optimality equations just means finding the root of the residual function $\\mathbf{R} : \\mathbb{R}^{|\\mathcal{S}|} \\to \\mathbb{R}^{|\\mathcal{S}|}$:\n",
    "\n",
    "$$\n",
    "\\mathbf{R}(\\mathbf{v}) := \\mathbf{v} - \\max_a \\left(\\mathbf{r}(a) + \\gamma \\mathbf{P}(a)\\mathbf{v}\\right).\n",
    "$$\n",
    "\n",
    "Note that we could have taken this one step further and defined a matrix $\\mathbf{R}$ instead of a vector-valued function $\\mathbf{r}(a)$, and a rank-3 tensor $\\mathbf{P}$ instead of a matrix-valued function $\\mathbf{P}(a)$, and used tensor algebra to formulate the approach--in fact, this is the approach used in the implementation below. The two approaches are, effectively, equivelent for our purposes here.\n"
   ]
  },
  {
   "cell_type": "markdown",
   "id": "e56e77be",
   "metadata": {},
   "source": [
    "As a first step, we implement convenience functions for generating the transition matrices $\\{\\mathbf{P}(a) | a \\in \\mathcal{A}\\}$ and the expected rewards vectors $\\{\\mathbf{r}(a) | a \\in \\mathcal{A}\\}$. As mentioned, these are implemented as a rank-3 tensor, $P_{s s' a}$, and rank-2 tensor (matrix), $R_{s a}$.\n"
   ]
  },
  {
   "cell_type": "code",
   "execution_count": 23,
   "id": "2ccbcbb7",
   "metadata": {},
   "outputs": [],
   "source": [
    "def get_transition_matrices(dynamics_table: DynamicsTable) -> npt.NDArray[np.float64]:\n",
    "    matrices: npt.NDArray[np.float64] = np.zeros((len(STATES), len(STATES), len(Action)), dtype=np.float64)\n",
    "\n",
    "    for row, state in enumerate(STATES):\n",
    "        for col, next_state in enumerate(STATES):\n",
    "            for action_index, action in enumerate(Action):\n",
    "                records: DynamicsTable = [\n",
    "                    record for record in dynamics_table\n",
    "                    if record[0] == state and record[1] == action and record[2] == next_state\n",
    "                ]\n",
    "                matrices[row, col, action_index] = sum(record[4] for record in records)\n",
    "\n",
    "    return matrices\n",
    "\n",
    "\n",
    "def get_expected_reward_vectors(dynamics_table: DynamicsTable) -> npt.NDArray[np.float64]:      \n",
    "    vectors: npt.NDArray[np.float64] = np.zeros((len(STATES), len(Action)), dtype=np.float64)\n",
    "\n",
    "    for state_index, state in enumerate(STATES):\n",
    "        for action_index, action in enumerate(Action):\n",
    "            records: DynamicsTable = [\n",
    "                record for record in dynamics_table if record[0] == state and record[1] == action\n",
    "            ]\n",
    "            vectors[state_index, action_index] = sum(record[4] * record[3] for record in records)\n",
    "\n",
    "    return vectors\n"
   ]
  },
  {
   "cell_type": "markdown",
   "id": "2e1122b3",
   "metadata": {},
   "source": [
    "Next, we implement the solution as, more-or-less, a wrapper around the nonlinear `scipy.optimize.root` function:\n"
   ]
  },
  {
   "cell_type": "code",
   "execution_count": 24,
   "id": "09ce1ea2",
   "metadata": {},
   "outputs": [],
   "source": [
    "def solve_bellman_optimality_equations(\n",
    "    initial_state_value_vector: npt.NDArray[np.float64],\n",
    "    transition_matrices: npt.NDArray[np.float64],\n",
    "    expected_reward_vectors: npt.NDArray[np.float64],\n",
    "    discount_factor: float\n",
    ") -> npt.NDArray[np.float64]:\n",
    "    def _get_state_value_residual(state_value_vector: npt.NDArray[np.float64]) -> npt.NDArray[np.float64]:\n",
    "        action_values: npt.NDArray[np.float64] = expected_reward_vectors \\\n",
    "            + discount_factor * np.einsum('ijk,j->ik', transition_matrices, state_value_vector)\n",
    "        \n",
    "        return state_value_vector - np.max(action_values, axis=1)\n",
    "\n",
    "    optimal_state_value_vector_solution: OptimizeResult = root(\n",
    "        _get_state_value_residual,\n",
    "        initial_state_value_vector\n",
    "    )\n",
    "\n",
    "    if not optimal_state_value_vector_solution.success:\n",
    "        raise RuntimeError(f\"Failed to converge on optimal state value\")\n",
    "    \n",
    "    return optimal_state_value_vector_solution.x\n"
   ]
  },
  {
   "cell_type": "markdown",
   "id": "6ac819c1",
   "metadata": {},
   "source": [
    "We compute the optimal state-value vector $\\mathbf{v}_*$ using this implementation:\n"
   ]
  },
  {
   "cell_type": "code",
   "execution_count": 25,
   "id": "4292cea7",
   "metadata": {},
   "outputs": [],
   "source": [
    "initial_state_value_vector: npt.NDArray[np.float64] = np.zeros(len(STATES), dtype=np.float64)\n",
    "\n",
    "optimal_state_value_vector: npt.NDArray[np.float64] = solve_bellman_optimality_equations(\n",
    "    initial_state_value_vector,\n",
    "    get_transition_matrices(DYNAMICS_TABLE),\n",
    "    get_expected_reward_vectors(DYNAMICS_TABLE),\n",
    "    DISCOUNT_FACTOR\n",
    ")\n"
   ]
  },
  {
   "cell_type": "markdown",
   "id": "b24f52ec",
   "metadata": {},
   "source": [
    "With $v_*(s)$ in-hand, we define the optimal policy $\\pi_*(s)$, which, as the notation suggests, is deterministic, to be\n",
    "\n",
    "$$\n",
    "\\pi_*(s) := \\argmax_a q_*(s, a),\n",
    "$$\n",
    "\n",
    "where $q_*(s, a)$ is the optimal action-value function, which can be expressed as\n",
    "\n",
    "\\begin{align*}\n",
    "q_*(s, a) :=&\\, \\mathbb{E}[R_{t + 1} + \\gamma G_{t + 1} | S_t = s, A_t = a] \\\\\n",
    "           =&\\, \\mathbb{E}[R_{t + 1} | S_t = s, A_t = a]\n",
    "                + \\gamma \\mathbb{E}[G_{t + 1} | S_t = s, A_t = a] \\\\\n",
    "           =&\\, \\sum_r r \\sum_{s'} p(s', r | s, a)\n",
    "                + \\gamma \\sum_{s'} \\mathbb{E}[G_{t + 1} | S_t = s, A_t = a, S_{t + 1} = s'] \\sum_r p(s', r | s, a) \\\\\n",
    "           =&\\, \\sum_r r \\sum_{s'} p(s', r | s, a)\n",
    "                + \\gamma \\sum_{s'} \\mathbb{E}[G_{t + 1} | S_{t + 1} = s'] \\sum_r p(s', r | s, a) \\\\\n",
    "           =&\\, \\sum_r r \\sum_{s'} p(s', r | s, a)\n",
    "                + \\gamma \\sum_{s'} v_*(s') \\sum_r p(s', r | s, a) \\\\\n",
    "           =&\\, \\sum_{s', r} p(s', r | s, a) [r + \\gamma v_*(s')].\n",
    "\\end{align*}\n",
    "\n",
    "Putting these together yields\n",
    "\n",
    "$$\n",
    "\\pi_*(s) = \\argmax_a \\sum_{s', r} p(s', r | s, a) [r + \\gamma v_*(s')],\n",
    "$$\n",
    "\n",
    "which we can rewrite using $r(s, a)$ and $P(s', s, a)$ from above as\n",
    "\n",
    "$$\n",
    "\\pi_*(s) = \\argmax_a \\left(r(s, a) + \\gamma \\sum_{s'} P(s', s, a) v_*(s')\\right),\n",
    "$$\n",
    "\n",
    "or, in vector notation,\n",
    "\n",
    "$$\n",
    "\\boldsymbol{\\pi}_* := \\argmax_a \\left(\\mathbf{r}(a) + \\gamma \\mathbf{P}(a)\\mathbf{v}_*\\right),\n",
    "$$\n",
    "\n",
    "where\n",
    "\n",
    "$$\n",
    "\\boldsymbol{\\pi}_* := \\begin{bmatrix}\n",
    "\\pi_*(s_0) \\\\\n",
    "\\pi_*(s_1) \\\\\n",
    "\\vdots \\\\\n",
    "\\pi_*(s_{24})\n",
    "\\end{bmatrix},\n",
    "$$\n",
    "\n",
    " $\\mathbf{r}(a)$ is the expected reward vector function, $\\mathbf{P}(a)$ is the transition matrix function, and $\\mathbf{v}_*$ is the optimal state value vector, all as defined above. Also as above, the $\\argmax_a$ is understood to apply row-wise.\n",
    "\n",
    "We can use this formulation to implement the calculation of the optimal policy as follows:\n",
    "\n"
   ]
  },
  {
   "cell_type": "code",
   "execution_count": 26,
   "id": "0670f083",
   "metadata": {},
   "outputs": [],
   "source": [
    "def get_greedy_policy(\n",
    "    state_value_vector: npt.NDArray[np.float64],\n",
    "    transition_matrices: npt.NDArray[np.float64],\n",
    "    expected_reward_vectors: npt.NDArray[np.float64],\n",
    "    discount_factor: float\n",
    ") -> Policy:\n",
    "    action_values: npt.NDArray[np.float64] = expected_reward_vectors \\\n",
    "        + discount_factor * np.einsum('ijk,j->ik', transition_matrices, state_value_vector)\n",
    "    \n",
    "    greedy_action_indices: npt.NDArray[np.int64] = np.argmax(action_values, axis=1)\n",
    "    greedy_actions: list[Action] = [get_action(action_index) for action_index in greedy_action_indices]\n",
    "\n",
    "    probability_distribution_map: dict[State, dict[Action, float]] = {\n",
    "        STATES[state_index]: {action: 1.0 if action == greedy_action else 0.0 for action in Action}\n",
    "        for state_index, greedy_action in enumerate(greedy_actions)\n",
    "    }\n",
    "\n",
    "    return Policy(probability_distribution_map, np.random.default_rng())\n"
   ]
  },
  {
   "cell_type": "markdown",
   "id": "07312c5a",
   "metadata": {},
   "source": [
    "We can then calculate the optimal policy given our optimal state value vector:\n"
   ]
  },
  {
   "cell_type": "code",
   "execution_count": 27,
   "id": "1d5b11a6",
   "metadata": {},
   "outputs": [],
   "source": [
    "optimal_policy: dict[State, Action] = get_greedy_policy(\n",
    "    optimal_state_value_vector,\n",
    "    get_transition_matrices(DYNAMICS_TABLE),\n",
    "    get_expected_reward_vectors(DYNAMICS_TABLE),\n",
    "    DISCOUNT_FACTOR\n",
    ")\n"
   ]
  },
  {
   "cell_type": "markdown",
   "id": "b90d5774",
   "metadata": {},
   "source": [
    "Finally, we can visualize the results:\n"
   ]
  },
  {
   "cell_type": "code",
   "execution_count": 28,
   "id": "69b61cc9",
   "metadata": {},
   "outputs": [
    {
     "data": {
      "image/png": "[encoded data removed]",
      "text/plain": [
       "<Figure size 600x500 with 2 Axes>"
      ]
     },
     "metadata": {},
     "output_type": "display_data"
    }
   ],
   "source": [
    "plot_state_value_heat_map_with_policy(\n",
    "    optimal_state_value_vector,\n",
    "    optimal_policy\n",
    ")"
   ]
  },
  {
   "cell_type": "markdown",
   "id": "9e7dbe1a",
   "metadata": {},
   "source": [
    "As can be seen, $\\pi_*$ always picks the action that results in the greatest one-step-ahead state-value. This is expected of a greedy policy.\n",
    "\n",
    "One thing to note is the, at first glance, surprising choice of \"up\" from the blue and green squares. In these cases, all actions yield the same result, so the choice of action is irrelevant.\n"
   ]
  },
  {
   "cell_type": "markdown",
   "id": "e8156b2b",
   "metadata": {},
   "source": [
    "### 1.2.2: Policy Iteration"
   ]
  },
  {
   "cell_type": "markdown",
   "id": "3ae8d20a",
   "metadata": {},
   "source": [
    "As an alternative to directly solving the Bellman equations in order to perform policy evaluation (i.e., computing the state value function for a given policy), iterative methods can be used which allow solutions to be found even for problems of massive scale.\n",
    "\n",
    "One such iterative method is known as _policy iteration_, which involves two steps: 1) policy evaluation using iterative policy evaluation; and 2) policy improvement. In the following, we implement policy iteration and compare the results to those obtained by direct solution of the Bellman equations.\n"
   ]
  },
  {
   "cell_type": "markdown",
   "id": "ccce611b",
   "metadata": {},
   "source": [
    "First, we define two convenience functions: 1) for computing the policy-aware transition matrix; and 2) for computing the policy-aware expected reward vector. These will simplify the later implementations.\n",
    "\n",
    "Note that, although the naming leaves a lot to be desired, by \"policy-aware\", we mean that the update rule assumes that the policy is deterministic, i.e., $\\pi(a | s) = \\pi(s)$, yielding\n",
    "\n",
    "\\begin{align*}\n",
    "v_{k + 1}(s) =&\\, \\sum_{s', r} p(s', r | s, \\pi(s)) [r + \\gamma v_k(s')] \\\\\n",
    "             =&\\, r_{\\pi}(s) + \\gamma \\sum_{s'}P_{\\pi}(s, s') v_k(s'),\n",
    "\\end{align*}\n",
    "\n",
    "where, similar to above, we define functions\n",
    "\n",
    "$$\n",
    "r_{\\pi}(s) := \\sum_{s', r} p(s', r | s, \\pi(s)) r,\n",
    "$$\n",
    "\n",
    "and\n",
    "\n",
    "$$\n",
    "P_{\\pi}(s, s') := \\sum_{r} p(s', r | s, \\pi(s)).\n",
    "$$\n",
    "\n",
    "We introduce vectors $\\mathbf{v}_{\\pi}$ and $\\mathbf{r}_{\\pi}$, along with a matrix $\\mathbf{P}_{\\pi}$ following the same pattern as that already established, and iterate on the value function according to the update rule\n",
    "\n",
    "$$\n",
    "\\mathbf{v}_{k + 1} = \\mathbf{r}_{\\pi} + \\mathbf{P}_{\\pi} \\mathbf{v}_k.\n",
    "$$\n"
   ]
  },
  {
   "cell_type": "code",
   "execution_count": 29,
   "id": "8475bc4d",
   "metadata": {},
   "outputs": [],
   "source": [
    "def get_policy_aware_transition_matrix(\n",
    "    dynamics_table: DynamicsTable,\n",
    "    policy: Policy\n",
    ") -> npt.NDArray[np.float64]:\n",
    "    matrix: npt.NDArray[np.float64] = np.zeros((len(STATES), len(STATES)), dtype=np.float64)\n",
    "\n",
    "    for row, state in enumerate(STATES):\n",
    "        for col, next_state in enumerate(STATES):\n",
    "            records: DynamicsTable = [\n",
    "                record for record in dynamics_table\n",
    "                if record[0] == state and record[1] == policy.get_action(state) and record[2] == next_state\n",
    "            ]\n",
    "            matrix[row, col] = sum(record[4] for record in records)\n",
    "\n",
    "    return matrix\n",
    "\n",
    "\n",
    "def get_policy_aware_expected_reward_vector(\n",
    "    dynamics_table: DynamicsTable,\n",
    "    policy: Policy\n",
    ") -> npt.NDArray[np.float64]:\n",
    "    vector: npt.NDArray[np.float64] = np.zeros(len(STATES), dtype=np.float64)\n",
    "\n",
    "    for index, state in enumerate(STATES):\n",
    "        records: DynamicsTable = [\n",
    "            record for record in dynamics_table if record[0] == state and record[1] == policy.get_action(state)\n",
    "        ]\n",
    "        vector[index] = sum(record[4] * record[3] for record in records)\n",
    "\n",
    "    return vector\n",
    "    "
   ]
  },
  {
   "cell_type": "markdown",
   "id": "aa289820",
   "metadata": {},
   "source": [
    "The following function implements the policy iteration algorithm, using iterative policy evaluation to do the prediction step. We rely heavily on previous implementations of the steps, including the iterative policy evaluation algorithm. We stop iterating when the policy is no longer changing, at which point we have found the optimal policy.\n"
   ]
  },
  {
   "cell_type": "code",
   "execution_count": null,
   "id": "58e0a81a",
   "metadata": {},
   "outputs": [],
   "source": [
    "def do_policy_iteration(\n",
    "    initial_state_value_vector: npt.NDArray[np.float64],\n",
    "    initial_policy: Policy,\n",
    "    dynamics_table: DynamicsTable,\n",
    "    discount_factor: float,\n",
    "    convergence_threshold: float\n",
    ") -> tuple[npt.NDArray[np.float64], Policy]:\n",
    "    state_value_vector: npt.NDArray[np.float64] = initial_state_value_vector.copy()\n",
    "    policy: Policy = deepcopy(initial_policy)\n",
    "    policy_temp: Policy = deepcopy(policy)\n",
    "\n",
    "    iteration_counter: int = 0\n",
    "    while True:\n",
    "        if iteration_counter > 10000:\n",
    "            raise RuntimeError(f\"Failed to find optimal policy after 10,000 iterations\")\n",
    "        \n",
    "        state_value_vector = do_iterative_policy_evaluation(\n",
    "            state_value_vector,\n",
    "            get_policy_aware_transition_matrix(dynamics_table, policy),\n",
    "            get_policy_aware_expected_reward_vector(dynamics_table, policy),\n",
    "            discount_factor,\n",
    "            convergence_threshold\n",
    "        )\n",
    "\n",
    "        policy = get_greedy_policy(\n",
    "            state_value_vector,\n",
    "            get_transition_matrices(dynamics_table),\n",
    "            get_expected_reward_vectors(dynamics_table),\n",
    "            discount_factor\n",
    "        )\n",
    "\n",
    "        if policy == policy_temp:\n",
    "            break\n",
    "\n",
    "        policy_temp = deepcopy(policy)\n",
    "\n",
    "    return state_value_vector, policy\n"
   ]
  },
  {
   "cell_type": "markdown",
   "id": "b8a48c02",
   "metadata": {},
   "source": [
    "Using the above, we compute the optimal state value function and optimal policy:\n"
   ]
  },
  {
   "cell_type": "code",
   "execution_count": 31,
   "id": "c4763f73",
   "metadata": {},
   "outputs": [],
   "source": [
    "initial_state_value_vector: npt.NDArray[np.float64] = np.zeros(len(STATES), dtype=np.float64)\n",
    "initial_probability_distribution_map: dict[State, dict[Action, float]] = {\n",
    "    state: {action: 1.0 if action == Action.UP else 0.0 for action in Action} for state in STATES\n",
    "}\n",
    "initial_policy: Policy = Policy(initial_probability_distribution_map, np.random.default_rng())\n",
    "\n",
    "optimal_state_value_vector_iter, optimal_policy_iter = do_policy_iteration(\n",
    "    initial_state_value_vector,\n",
    "    initial_policy,\n",
    "    DYNAMICS_TABLE,\n",
    "    DISCOUNT_FACTOR,\n",
    "    CONVERGENCE_THRESHOLD\n",
    ")\n"
   ]
  },
  {
   "cell_type": "markdown",
   "id": "3d2d3f2e",
   "metadata": {},
   "source": [
    "Finally, we visualize the state value function and policy as usual:\n"
   ]
  },
  {
   "cell_type": "code",
   "execution_count": 32,
   "id": "acc1c21c",
   "metadata": {},
   "outputs": [
    {
     "data": {
      "image/png": "[encoded data removed]",
      "text/plain": [
       "<Figure size 600x500 with 2 Axes>"
      ]
     },
     "metadata": {},
     "output_type": "display_data"
    }
   ],
   "source": [
    "plot_state_value_heat_map_with_policy(\n",
    "    optimal_state_value_vector_iter,\n",
    "    optimal_policy_iter\n",
    ")\n"
   ]
  },
  {
   "cell_type": "markdown",
   "id": "c3a1d0ef",
   "metadata": {},
   "source": [
    "While there are some minor deviations in the policy from the exact solutions above, the end result is essentially identical. The differences appear mainly to be due to alternate choices in equivalent one-step-ahead state values for the policy. This may be due to minute differences in the state values computed during the iterative process.\n"
   ]
  },
  {
   "cell_type": "markdown",
   "id": "6792632a",
   "metadata": {},
   "source": [
    "### 1.2.3: Value Iteration"
   ]
  },
  {
   "cell_type": "markdown",
   "id": "47b7a578",
   "metadata": {},
   "source": [
    "Value iteration is essentially a short-circuited version of policy iteration that uses the following update rule:\n",
    "\n",
    "$$\n",
    "v_{k + 1}(s) = \\max_a \\sum_{s', r} p(s', r | s, a) [r + \\gamma v_k{s'}].\n",
    "$$\n",
    "\n",
    "The following uses the now established matrix/vector form of this update rule to converge on an optimal policy:\n"
   ]
  },
  {
   "cell_type": "code",
   "execution_count": 33,
   "id": "74841b6d",
   "metadata": {},
   "outputs": [],
   "source": [
    "def do_value_iteration(\n",
    "    initial_state_value_vector: npt.NDArray[np.float64],\n",
    "    dynamics_table: DynamicsTable,\n",
    "    discount_factor: float,\n",
    "    convergence_threshold: float\n",
    ") -> tuple[npt.NDArray[np.float64], dict[State, Action]]:\n",
    "    transition_matrices: npt.NDArray[np.float64] = get_transition_matrices(dynamics_table)\n",
    "    expected_reward_vectors: npt.NDArray[np.float64] = get_expected_reward_vectors(dynamics_table)\n",
    "\n",
    "    def _get_max_action_value_vector(state_value_vector: npt.NDArray[np.float64]) -> npt.NDArray[np.float64]:\n",
    "        action_values: npt.NDArray[np.float64] = expected_reward_vectors \\\n",
    "            + discount_factor * np.einsum('ijk,j->ik', transition_matrices, state_value_vector)\n",
    "        \n",
    "        return np.max(action_values, axis=1)\n",
    "    \n",
    "    state_value_vector_iter: npt.NDArray[np.float64] = initial_state_value_vector.copy()\n",
    "    state_value_vector_temp: npt.NDArray[np.float64] = state_value_vector_iter.copy()\n",
    "\n",
    "    while True:\n",
    "        state_value_vector_iter = _get_max_action_value_vector(state_value_vector_iter)\n",
    "        if np.max(np.abs(state_value_vector_iter - state_value_vector_temp)) < convergence_threshold:\n",
    "            break\n",
    "        state_value_vector_temp = state_value_vector_iter.copy()\n",
    "\n",
    "    policy: dict[State, Action] = get_greedy_policy(\n",
    "        state_value_vector_iter,\n",
    "        transition_matrices,\n",
    "        expected_reward_vectors,\n",
    "        discount_factor\n",
    "    )\n",
    "\n",
    "    return state_value_vector_iter, policy\n"
   ]
  },
  {
   "cell_type": "markdown",
   "id": "8cd461df",
   "metadata": {},
   "source": [
    "Using this implementation, we generate an optimal policy to the gridworld problem as follows:\n"
   ]
  },
  {
   "cell_type": "code",
   "execution_count": 34,
   "id": "ecc81df6",
   "metadata": {},
   "outputs": [],
   "source": [
    "initial_state_value_vector: npt.NDArray[np.float64] = np.zeros(len(STATES), dtype=np.float64)\n",
    "\n",
    "optimal_state_value_vector_value_iter, optimal_policy_value_iter = do_value_iteration(\n",
    "    initial_state_value_vector,\n",
    "    DYNAMICS_TABLE,\n",
    "    DISCOUNT_FACTOR,\n",
    "    CONVERGENCE_THRESHOLD\n",
    ")\n"
   ]
  },
  {
   "cell_type": "markdown",
   "id": "3e714af0",
   "metadata": {},
   "source": [
    "We visualize the solution as per usual:\n"
   ]
  },
  {
   "cell_type": "code",
   "execution_count": 35,
   "id": "e9a4ad53",
   "metadata": {},
   "outputs": [
    {
     "data": {
      "image/png": "[encoded data removed]",
      "text/plain": [
       "<Figure size 600x500 with 2 Axes>"
      ]
     },
     "metadata": {},
     "output_type": "display_data"
    }
   ],
   "source": [
    "plot_state_value_heat_map_with_policy(\n",
    "    optimal_state_value_vector_value_iter,\n",
    "    optimal_policy_value_iter\n",
    ")\n"
   ]
  },
  {
   "cell_type": "markdown",
   "id": "542e7eca",
   "metadata": {},
   "source": [
    "Comparing with the policy iteration solution, the results look identical.\n"
   ]
  },
  {
   "cell_type": "markdown",
   "id": "568ba208",
   "metadata": {},
   "source": [
    "## Part 2: With Terminal States"
   ]
  },
  {
   "cell_type": "markdown",
   "id": "ba0d38d4",
   "metadata": {},
   "source": [
    "In the modified gridworld, the dynamics function $p(s', r | s, a)$ can be defined via the following table:\n",
    "\n",
    "| $s$             | $a$            | $s'$            | $r$    | $p$   |\n",
    "|:---------------:|:--------------:|:---------------:|:------:|:-----:|\n",
    "| $\\text{blue}$   | $\\text{up}$    | $\\text{red}$    | $5$    | $1$   |\n",
    "| $\\text{blue}$   | $\\text{down}$  | $\\text{red}$    | $5$    | $1$   |\n",
    "| $\\text{blue}$   | $\\text{left}$  | $\\text{red}$    | $5$    | $1$   |\n",
    "| $\\text{blue}$   | $\\text{right}$ | $\\text{red}$    | $5$    | $1$   |\n",
    "| $\\text{green}$  | $\\text{up}$    | $\\text{red}$    | $2.5$  | $0.5$ |\n",
    "| $\\text{green}$  | $\\text{down}$  | $\\text{red}$    | $2.5$  | $0.5$ |\n",
    "| $\\text{green}$  | $\\text{left}$  | $\\text{red}$    | $2.5$  | $0.5$ |\n",
    "| $\\text{green}$  | $\\text{right}$ | $\\text{red}$    | $2.5$  | $0.5$ |\n",
    "| $\\text{green}$  | $\\text{up}$    | $\\text{yellow}$ | $2.5$  | $0.5$ |\n",
    "| $\\text{green}$  | $\\text{down}$  | $\\text{yellow}$ | $2.5$  | $0.5$ |\n",
    "| $\\text{green}$  | $\\text{left}$  | $\\text{yellow}$ | $2.5$  | $0.5$ |\n",
    "| $\\text{green}$  | $\\text{right}$ | $\\text{yellow}$ | $2.5$  | $0.5$ |\n",
    "| $(0, j)$        | $\\text{up}$    | $(0, j)$        | $-0.5$ | $1$   |\n",
    "| $(4, j)$        | $\\text{down}$  | $(4, j)$        | $-0.5$ | $1$   |\n",
    "| $(i, 0)$        | $\\text{left}$  | $(i, 0)$        | $-0.5$ | $1$   |\n",
    "| $(i, 4)$        | $\\text{right}$ | $(i, 4)$        | $-0.5$ | $1$   |\n",
    "| $(i, j)$        | $\\text{up}$    | $(i - 1, j)$    | $-0.2$ | $1$   |\n",
    "| $(i, j)$        | $\\text{down}$  | $(i + 1, j)$    | $-0.2$ | $1$   |\n",
    "| $(i, j)$        | $\\text{left}$  | $(i, j - 1)$    | $-0.2$ | $1$   |\n",
    "| $(i, j)$        | $\\text{right}$ | $(i, j + 1)$    | $-0.2$ | $1$   |\n"
   ]
  },
  {
   "cell_type": "markdown",
   "id": "759dafa4",
   "metadata": {},
   "source": [
    "We can take advantage of the previous implementation to define an updated version of the dynamics table for use in the below:\n"
   ]
  },
  {
   "cell_type": "code",
   "execution_count": 36,
   "id": "c7653525",
   "metadata": {},
   "outputs": [],
   "source": [
    "DYNAMICS_TABLE_WITH_TERMINAL_STATES: DynamicsTable = get_dynamics_table(-0.2)\n"
   ]
  },
  {
   "cell_type": "markdown",
   "id": "727e83cb",
   "metadata": {},
   "source": [
    "We also create a list of the terminal states for future use:\n"
   ]
  },
  {
   "cell_type": "code",
   "execution_count": 37,
   "id": "31a9ac42",
   "metadata": {},
   "outputs": [],
   "source": [
    "TERMINAL_STATES: list[State] = [\n",
    "    get_state(2, 0),\n",
    "    get_state(2, 4),\n",
    "    get_state(4, 0)\n",
    "]\n"
   ]
  },
  {
   "cell_type": "markdown",
   "id": "897b1dfb",
   "metadata": {},
   "source": [
    "Next, we define some convenience functions for computing the reward and next state from the dynamics table. These will be useful in the upcoming implementations.\n"
   ]
  },
  {
   "cell_type": "code",
   "execution_count": 38,
   "id": "33342a96",
   "metadata": {},
   "outputs": [],
   "source": [
    "def get_dynamics_table_record_by_state_action_pair(\n",
    "    dynamics_table: DynamicsTable,\n",
    "    state: State,\n",
    "    action: Action\n",
    ") -> tuple[State, Action, State, float, float]:\n",
    "    records: list[tuple[State, Action, State, float, float]] = list(filter(\n",
    "        lambda record: record[0] == state and record[1] == action,\n",
    "        dynamics_table\n",
    "    ))\n",
    "    if len(records) == 0:\n",
    "        raise RuntimeError(f\"No dynamics table record found for state/action pair ({state}, {action})\")\n",
    "\n",
    "    record_index: int = 0\n",
    "    if len(records) > 1:\n",
    "        # TODO: Make this use the probability distribution\n",
    "        record_index = np.random.choice(len(records))\n",
    "    \n",
    "    return records[record_index]\n",
    "\n",
    "\n",
    "def get_next_state(dynamics_table: DynamicsTable, state: State, action: Action) -> State:\n",
    "    record: tuple[State, Action, State, float, float] = get_dynamics_table_record_by_state_action_pair(\n",
    "        dynamics_table,\n",
    "        state,\n",
    "        action\n",
    "    )\n",
    "\n",
    "    return record[2]\n",
    "\n",
    "\n",
    "def get_reward(dynamics_table: DynamicsTable, state: State, action: Action) -> float:\n",
    "    record: tuple[State, Action, State, float, float] = get_dynamics_table_record_by_state_action_pair(\n",
    "        dynamics_table,\n",
    "        state,\n",
    "        action\n",
    "    )\n",
    "\n",
    "    return record[3]\n"
   ]
  },
  {
   "cell_type": "markdown",
   "id": "2586ff6d",
   "metadata": {},
   "source": [
    "Next, we define a container that will hold an _episode_, which, here, we require to hold the trajectory, i.e., the sequence $S_0$, $A_0$, $R_1$, $S_1$, $A_1$, $\\ldots$, $R_T$, $S_T$, where $T$ is the terminal time step, for the episode.\n",
    "\n",
    "For convenience, we also include an occurrence map, which holds a list of time steps each state-action pair occurs during an episode.\n"
   ]
  },
  {
   "cell_type": "code",
   "execution_count": 39,
   "id": "68d93e96",
   "metadata": {},
   "outputs": [],
   "source": [
    "Trajectory: TypeAlias = list[tuple[int, float, State, Action]]\n",
    "Occurrences: TypeAlias = dict[tuple[State, Action], list[int]]\n",
    "\n",
    "@dataclass\n",
    "class Episode:\n",
    "    trajectory: Trajectory | None = None\n",
    "    occurrences: Occurrences | None = None\n",
    "\n",
    "    def __post_init__(self) -> None:\n",
    "        self.trajectory: Trajectory = list()\n",
    "        self.occurrences: Occurrences = {\n",
    "            (state, action): [] for state in STATES for action in Action\n",
    "        }\n"
   ]
  },
  {
   "cell_type": "markdown",
   "id": "300eced4",
   "metadata": {},
   "source": [
    "The following function is used from here on to generate episodes starting from an initial state-action pair according to a policy and the gridworld dynamics, specified in the dynamics table above.\n",
    "\n",
    "Aside from reaching a terminal state, we're forced to include an alternate episode termination criterion in the form of a max step number. This is to prevent infinite episodes occuring due to cycles that can form during the GPI loop.\n"
   ]
  },
  {
   "cell_type": "code",
   "execution_count": 40,
   "id": "bd593002",
   "metadata": {},
   "outputs": [],
   "source": [
    "def generate_episode(\n",
    "    initial_state: State,\n",
    "    initial_action: Action,\n",
    "    policy: Policy,\n",
    "    dynamics_table: DynamicsTable,\n",
    "    max_steps_per_episode: int\n",
    ") -> Episode:\n",
    "    episode: Episode = Episode()\n",
    "    reward: float = 0.0     # This is a departure from the theory, but is harmless\n",
    "    state: State = initial_state\n",
    "    action: Action = initial_action\n",
    "    time_step: int = 0\n",
    "    while True:\n",
    "        episode.trajectory.append((time_step, reward, state, action))\n",
    "        episode.occurrences[(state, action)].append(time_step)\n",
    "        if state in TERMINAL_STATES:\n",
    "            break\n",
    "        reward: float = get_reward(dynamics_table, state, action)\n",
    "        state: State = get_next_state(dynamics_table, state, action)\n",
    "        action: Action = policy.get_action(state)\n",
    "        time_step += 1\n",
    "        if time_step >= max_steps_per_episode:\n",
    "            break\n",
    "\n",
    "    return episode\n"
   ]
  },
  {
   "cell_type": "markdown",
   "id": "aa6d4c06",
   "metadata": {},
   "source": [
    "Finally, we define a function for computing the state value function from a policy and the action value function according to\n",
    "\n",
    "$$\n",
    "v_{\\pi}(s) = \\sum_a \\pi(a | s) q_{\\pi}(s, a).\n",
    "$$\n"
   ]
  },
  {
   "cell_type": "code",
   "execution_count": 41,
   "id": "280bedb8",
   "metadata": {},
   "outputs": [],
   "source": [
    "def get_approximate_state_value_vector(\n",
    "    policy: Policy,\n",
    "    action_values: npt.NDArray[np.float64]\n",
    ") -> npt.NDArray[np.float64]:\n",
    "    state_value_vector: npt.NDArray = np.zeros(len(STATES), dtype=np.float64)\n",
    "    for state in STATES:\n",
    "        state_index: int = get_state_index(state)\n",
    "        for action in Action:\n",
    "            action_index: int = get_action_index(action)\n",
    "            probability: float = policy.get_probability(state, action)\n",
    "            action_value: float = action_values[state_index, action_index]\n",
    "            state_value_vector[state_index] += probability * action_value\n",
    "\n",
    "    return state_value_vector\n"
   ]
  },
  {
   "cell_type": "markdown",
   "id": "f8666b5a",
   "metadata": {},
   "source": [
    "### 2.1.1: Monte Carlo Method With Exploring Starts"
   ]
  },
  {
   "cell_type": "markdown",
   "id": "b03220c0",
   "metadata": {},
   "source": [
    "One important consideration when using sample averages to approximate expected values is that a large number of samples is required in order to obtain an accurate estimation. If $\\pi$ is deterministic, it is possible, or maybe even definite, that unless we are careful we will not visit all state-action pairs, and therefore will not be able to accurately estimate the action value function.\n",
    "\n",
    "One way to ensure that this does not happen is to enforce the assumption of exploring starts, which asserts that episodes start in a state-action pair, and that every pair as a nonzero probability of being selected as the start of an episode. In this way, we can be guaranteed that, in the limit of infinite episodes, every state-action pair will be visited infinitely many times, hence our estimate will converge to the expected value.\n",
    "\n",
    "This is the idea behind the Monte Carlo with Exploring Starts method, implemented below:\n"
   ]
  },
  {
   "cell_type": "code",
   "execution_count": 42,
   "id": "005bdb7e",
   "metadata": {},
   "outputs": [],
   "source": [
    "def do_monte_carlo_with_exploring_starts(\n",
    "    initial_action_values: npt.NDArray[np.float64],\n",
    "    initial_policy: Policy,\n",
    "    discount_factor: float,\n",
    "    num_episodes: int,\n",
    "    max_steps_per_episode: int, \n",
    "    rng: np.random.Generator\n",
    ") -> tuple[npt.NDArray[np.float64], Policy]:\n",
    "    action_values: npt.NDArray[np.float64] = initial_action_values.copy()\n",
    "    policy: Policy = deepcopy(initial_policy)\n",
    "    returns: dict[tuple[State, Action], list[float]] = {\n",
    "        (state, action): [] for state in STATES for action in Action\n",
    "    }\n",
    "    for _ in range(num_episodes):\n",
    "        # This satisfies the exploring starts assumption: Episodes start in a state-action pair,\n",
    "        # and every pair has a nonzero probability of being selected as the start of an episode\n",
    "        initial_state: State = rng.choice(STATES)\n",
    "        initial_action: Action = rng.choice(list(Action))\n",
    "\n",
    "        episode: Episode = generate_episode(\n",
    "            initial_state,\n",
    "            initial_action,\n",
    "            policy,\n",
    "            DYNAMICS_TABLE_WITH_TERMINAL_STATES,\n",
    "            max_steps_per_episode\n",
    "        )\n",
    "        \n",
    "        current_return: float = 0.\n",
    "        for time_step, _, state, action in reversed(episode.trajectory[:-1]):\n",
    "            # Update the return\n",
    "            reward: float = episode.trajectory[time_step + 1][1]\n",
    "            current_return = discount_factor * current_return + reward\n",
    "\n",
    "            # Ensure this is the first visit to this (state, action) pair\n",
    "            if any(t < time_step for t in episode.occurrences[(state, action)]):\n",
    "                continue\n",
    "\n",
    "            # Add the return for this episode to the list of returns for this (state, action) pair \n",
    "            returns[(state, action)].append(current_return)\n",
    "\n",
    "            # Update the action value for this (state, action) pair\n",
    "            action_values[get_state_index(state), get_action_index(action)] = np.mean(returns[(state, action)])\n",
    "\n",
    "            # Greedily update the policy based on the updated action values\n",
    "            best_action: Action = get_best_action(state, action_values, rng)\n",
    "            policy_probability_distribution: dict[Action, float] = {\n",
    "                action: 1.0 if action is best_action else 0.0 for action in Action\n",
    "            }\n",
    "            policy.update(state, policy_probability_distribution)\n",
    "\n",
    "    return get_approximate_state_value_vector(policy, action_values), policy\n"
   ]
  },
  {
   "cell_type": "markdown",
   "id": "0661c1ea",
   "metadata": {},
   "source": [
    "Using this implementation, we can use the MC with ES method to find an optimal policy for the updated gridworld problem:\n"
   ]
  },
  {
   "cell_type": "code",
   "execution_count": 43,
   "id": "80889fa3",
   "metadata": {},
   "outputs": [],
   "source": [
    "initial_action_values: npt.NDArray[np.float64] = np.zeros((len(STATES), len(Action)), dtype=np.float64)\n",
    "\n",
    "initial_policy_seed: int = 1337\n",
    "initial_policy_rng: np.random.Generator = np.random.default_rng(initial_policy_seed)\n",
    "initial_probability_distribution_map: dict[State, dict[Action, float]] = {\n",
    "    state: {action: 0.25 for action in Action} for state in STATES\n",
    "}\n",
    "initial_policy: Policy = Policy(initial_probability_distribution_map, initial_policy_rng)\n",
    "\n",
    "max_steps_per_episode: int = 100\n",
    "num_episodes: int = 10000\n",
    "\n",
    "monte_carlo_seed: int = 42\n",
    "monte_carlo_rng: np.random.Generator = np.random.default_rng(monte_carlo_seed)\n",
    "\n",
    "state_value_vector_mc_exploring_starts, policy_mc_exploring_starts = do_monte_carlo_with_exploring_starts(\n",
    "    initial_action_values,\n",
    "    initial_policy,\n",
    "    DISCOUNT_FACTOR,\n",
    "    num_episodes,\n",
    "    max_steps_per_episode,\n",
    "    monte_carlo_rng\n",
    ")\n",
    "    "
   ]
  },
  {
   "cell_type": "markdown",
   "id": "892ada07",
   "metadata": {},
   "source": [
    "With an optimal solution, we can visualize it in the usual way:\n"
   ]
  },
  {
   "cell_type": "code",
   "execution_count": 44,
   "id": "714b7cb6",
   "metadata": {},
   "outputs": [
    {
     "data": {
      "image/png": "[encoded data removed]",
      "text/plain": [
       "<Figure size 600x500 with 2 Axes>"
      ]
     },
     "metadata": {},
     "output_type": "display_data"
    }
   ],
   "source": [
    "plot_state_value_heat_map_with_policy(\n",
    "    state_value_vector_mc_exploring_starts,\n",
    "    policy_mc_exploring_starts,\n",
    "    ignored_states=TERMINAL_STATES\n",
    ")\n"
   ]
  },
  {
   "cell_type": "markdown",
   "id": "d3c6a6b5",
   "metadata": {},
   "source": [
    "The results here seem reasonable, with the policy directing the agent toward the blue state. This is sensible since, as with the gridworld from part 1, that state offers the largest reward on the grid, so we would expect to seek it out.\n"
   ]
  },
  {
   "cell_type": "markdown",
   "id": "ee5f9768",
   "metadata": {},
   "source": [
    "### 2.1.2: Monte Carlo Method With Epsilon-Soft Policy"
   ]
  },
  {
   "cell_type": "markdown",
   "id": "b691ed10",
   "metadata": {},
   "source": [
    "The assumption of exploring starts is, in many cases, impractical or impossible to satisfy. As an alternative means of ensuring all state-action pairs are explored, we can employ a so-called soft policy, where all state-action pairs have a nonzero probability of being selected."
   ]
  },
  {
   "cell_type": "code",
   "execution_count": 45,
   "id": "238e5480",
   "metadata": {},
   "outputs": [],
   "source": [
    "def do_monte_carlo_with_epsilon_soft_policy(\n",
    "    initial_state: State,\n",
    "    initial_action: Action,\n",
    "    initial_action_values: npt.NDArray[np.float64],\n",
    "    initial_policy: Policy,\n",
    "    discount_factor: float,\n",
    "    epsilon: float,\n",
    "    num_episodes: int,\n",
    "    max_steps_per_episode: int, \n",
    "    rng: np.random.Generator\n",
    ") -> tuple[npt.NDArray[np.float64], Policy]:\n",
    "    action_values: npt.NDArray[np.float64] = initial_action_values.copy()\n",
    "    policy: Policy = deepcopy(initial_policy)\n",
    "    returns: dict[tuple[State, Action], list[float]] = {\n",
    "        (state, action): [] for state in STATES for action in Action\n",
    "    }\n",
    "    \n",
    "    for _ in range(num_episodes):\n",
    "        episode: Episode = generate_episode(\n",
    "            initial_state,\n",
    "            initial_action,\n",
    "            policy,\n",
    "            DYNAMICS_TABLE_WITH_TERMINAL_STATES,\n",
    "            max_steps_per_episode\n",
    "        )\n",
    "        \n",
    "        current_return: float = 0.\n",
    "        for time_step, _, state, action in reversed(episode.trajectory[:-1]):\n",
    "            # Update the return\n",
    "            reward: float = episode.trajectory[time_step + 1][1]\n",
    "            current_return = discount_factor * current_return + reward\n",
    "\n",
    "            # Ensure this is the first visit to this (state, action) pair\n",
    "            if any(t < time_step for t in episode.occurrences[(state, action)]):\n",
    "                continue\n",
    "\n",
    "            # Add the return for this episode to the list of returns for this (state, action) pair \n",
    "            returns[(state, action)].append(current_return)\n",
    "\n",
    "            # Update the action value for this (state, action) pair\n",
    "            action_values[get_state_index(state), get_action_index(action)] = np.mean(returns[(state, action)])\n",
    "\n",
    "            # Update the epsilon-soft policy based on the updated action values\n",
    "            best_action: Action = get_best_action(state, action_values, rng)\n",
    "            policy_probability_distribution: dict[Action, float] = {\n",
    "                action: 1.0 - epsilon + (epsilon / len(Action)) if action is best_action else epsilon / len(Action)\n",
    "                for action in Action\n",
    "            }\n",
    "            policy.update(state, policy_probability_distribution)\n",
    "\n",
    "    return get_approximate_state_value_vector(policy, action_values), policy\n"
   ]
  },
  {
   "cell_type": "code",
   "execution_count": 46,
   "id": "e05b18b4",
   "metadata": {},
   "outputs": [],
   "source": [
    "initial_state: State = State(4, 4)\n",
    "initial_action: Action = Action.UP\n",
    "\n",
    "initial_action_values: npt.NDArray[np.float64] = np.zeros((len(STATES), len(Action)), dtype=np.float64)\n",
    "\n",
    "initial_policy_seed: int = 1337\n",
    "initial_policy_rng: np.random.Generator = np.random.default_rng(initial_policy_seed)\n",
    "initial_probability_distribution_map: dict[State, dict[Action, float]] = {\n",
    "    state: {action: 0.25 for action in Action} for state in STATES\n",
    "}\n",
    "initial_policy: Policy = Policy(initial_probability_distribution_map, initial_policy_rng)\n",
    "\n",
    "epsilon: float = 0.3\n",
    "\n",
    "max_steps_per_episode: int = 100\n",
    "num_episodes: int = 20000\n",
    "\n",
    "monte_carlo_seed: int = 42\n",
    "monte_carlo_rng: np.random.Generator = np.random.default_rng(monte_carlo_seed)\n",
    "\n",
    "state_value_vector_mc_epsilon_soft, policy_mc_epsilon_soft = do_monte_carlo_with_epsilon_soft_policy(\n",
    "    initial_state,\n",
    "    initial_action,\n",
    "    initial_action_values,\n",
    "    initial_policy,\n",
    "    DISCOUNT_FACTOR,\n",
    "    epsilon,\n",
    "    num_episodes,\n",
    "    max_steps_per_episode,\n",
    "    monte_carlo_rng\n",
    ")\n",
    "    "
   ]
  },
  {
   "cell_type": "code",
   "execution_count": 47,
   "id": "ce195530",
   "metadata": {},
   "outputs": [
    {
     "data": {
      "image/png": "[encoded data removed]",
      "text/plain": [
       "<Figure size 600x500 with 2 Axes>"
      ]
     },
     "metadata": {},
     "output_type": "display_data"
    }
   ],
   "source": [
    "plot_state_value_heat_map_with_policy(\n",
    "    state_value_vector_mc_epsilon_soft,\n",
    "    policy_mc_epsilon_soft,\n",
    "    ignored_states=TERMINAL_STATES\n",
    ")\n"
   ]
  },
  {
   "cell_type": "markdown",
   "id": "513a6a3e",
   "metadata": {},
   "source": [
    "### 2.1: Off-Policy Monte Carlo"
   ]
  },
  {
   "cell_type": "markdown",
   "id": "3a7c14f8",
   "metadata": {},
   "source": []
  },
  {
   "cell_type": "code",
   "execution_count": 48,
   "id": "d61ddeb7",
   "metadata": {},
   "outputs": [],
   "source": [
    "def do_off_policy_monte_carlo(\n",
    "    initial_state: State,\n",
    "    initial_action: Action,\n",
    "    initial_action_values: npt.NDArray[np.float64],\n",
    "    initial_policy: Policy,\n",
    "    behaviour_policy: Policy,\n",
    "    discount_factor: float,\n",
    "    num_episodes: int,\n",
    "    max_steps_per_episode: int, \n",
    "    rng: np.random.Generator\n",
    ") -> tuple[npt.NDArray[np.float64], Policy]:\n",
    "    action_values: npt.NDArray[np.float64] = initial_action_values.copy()\n",
    "    policy: Policy = deepcopy(initial_policy)\n",
    "    cumulative_weights: dict[tuple[State, Action], float] = {\n",
    "        (state, action): 0.0 for state in STATES for action in Action\n",
    "    }\n",
    "    \n",
    "    for _ in range(num_episodes):\n",
    "        episode: Episode = generate_episode(\n",
    "            initial_state,\n",
    "            initial_action,\n",
    "            behaviour_policy,\n",
    "            DYNAMICS_TABLE_WITH_TERMINAL_STATES,\n",
    "            max_steps_per_episode\n",
    "        )\n",
    "        \n",
    "        current_return: float = 0.0\n",
    "        current_weight: float = 1.0\n",
    "        for time_step, _, state, action in reversed(episode.trajectory[:-1]):\n",
    "            # Update the return\n",
    "            reward: float = episode.trajectory[time_step + 1][1]\n",
    "            current_return = discount_factor * current_return + reward\n",
    "\n",
    "            # Update the cumulative weight for this (state, action) pair\n",
    "            cumulative_weights[(state, action)] += current_weight\n",
    "\n",
    "            # Update the action value estimate for this (state, action) pair\n",
    "            state_index: int = get_state_index(state)\n",
    "            action_index: int = get_action_index(action)\n",
    "            step_size: float = current_weight / cumulative_weights[(state, action)]\n",
    "            current_action_value: float = action_values[state_index, action_index]\n",
    "            action_values[state_index, action_index] = current_action_value \\\n",
    "                + step_size * (current_return - current_action_value)\n",
    "            \n",
    "            # Update the policy for this state\n",
    "            best_action: Action = get_best_action(state, action_values, rng)\n",
    "            policy_probability_distribution: dict[Action, float] = {\n",
    "                action: 1.0 if action is best_action else 0.0 for action in Action\n",
    "            }\n",
    "            policy.update(state, policy_probability_distribution)\n",
    "\n",
    "            if action != policy.get_action(state):\n",
    "                break\n",
    "\n",
    "            # Update the weight\n",
    "            current_weight *= 1.0 / behaviour_policy.get_probability(state, action)\n",
    "\n",
    "    return get_approximate_state_value_vector(policy, action_values), policy\n"
   ]
  },
  {
   "cell_type": "markdown",
   "id": "d404355e",
   "metadata": {},
   "source": [
    "Using the above, we attempt to solve the problem using the off-policy Monte Carlo approach:\n"
   ]
  },
  {
   "cell_type": "code",
   "execution_count": 49,
   "id": "f6a52fed",
   "metadata": {},
   "outputs": [],
   "source": [
    "initial_state: State = State(4, 4)\n",
    "initial_action: Action = Action.UP\n",
    "\n",
    "initial_action_values: npt.NDArray[np.float64] = np.zeros((len(STATES), len(Action)), dtype=np.float64)\n",
    "\n",
    "initial_policy_seed: int = 1337\n",
    "initial_policy_rng: np.random.Generator = np.random.default_rng(initial_policy_seed)\n",
    "initial_probability_distribution_map: dict[State, dict[Action, float]] = {\n",
    "    state: {action: 0.25 for action in Action} for state in STATES\n",
    "}\n",
    "initial_policy: Policy = Policy(initial_probability_distribution_map, initial_policy_rng)\n",
    "\n",
    "behaviour_policy_seed: int = 314159\n",
    "behaviour_policy_rng: np.random.Generator = np.random.default_rng(behaviour_policy_seed)\n",
    "behaviour_probability_distribution_map: dict[State, dict[Action, float]] = {\n",
    "    state: {action: 0.25 for action in Action} for state in STATES\n",
    "}\n",
    "behaviour_policy: Policy = Policy(behaviour_probability_distribution_map, behaviour_policy_rng)\n",
    "\n",
    "max_steps_per_episode: int = 100\n",
    "num_episodes: int = 500000\n",
    "\n",
    "monte_carlo_seed: int = 42\n",
    "monte_carlo_rng: np.random.Generator = np.random.default_rng(monte_carlo_seed)\n",
    "\n",
    "state_value_vector_mc_off_policy, policy_mc_off_policy = do_off_policy_monte_carlo(\n",
    "    initial_state,\n",
    "    initial_action,\n",
    "    initial_action_values,\n",
    "    initial_policy,\n",
    "    behaviour_policy,\n",
    "    DISCOUNT_FACTOR,\n",
    "    num_episodes,\n",
    "    max_steps_per_episode,\n",
    "    monte_carlo_rng\n",
    ")\n",
    "    "
   ]
  },
  {
   "cell_type": "markdown",
   "id": "f9966ee0",
   "metadata": {},
   "source": [
    "We visualize the results in the usual way:\n"
   ]
  },
  {
   "cell_type": "code",
   "execution_count": 50,
   "id": "ff946b10",
   "metadata": {},
   "outputs": [
    {
     "data": {
      "image/png": "[encoded data removed]",
      "text/plain": [
       "<Figure size 600x500 with 2 Axes>"
      ]
     },
     "metadata": {},
     "output_type": "display_data"
    }
   ],
   "source": [
    "plot_state_value_heat_map_with_policy(\n",
    "    state_value_vector_mc_off_policy,\n",
    "    policy_mc_off_policy,\n",
    "    ignored_states=TERMINAL_STATES\n",
    ")\n"
   ]
  },
  {
   "cell_type": "markdown",
   "id": "a5bed4a6",
   "metadata": {},
   "source": [
    "As can be seen in the above, even after many, many iterations, the off-policy Monte Carlo algorithm implemented above fails to converge on the expected solution. This may be due to an error in implementation, or it may just be due to the known issue where this method can be slow to converge. Given the very large number of iterations completed here, the latter feels unlikely; it feels far more probable that there is an implementation error that, unfortunately, could not be found in time.\n"
   ]
  },
  {
   "cell_type": "markdown",
   "id": "e4d557a2",
   "metadata": {},
   "source": []
  }
 ],
 "metadata": {
  "kernelspec": {
   "display_name": ".venv",
   "language": "python",
   "name": "python3"
  },
  "language_info": {
   "codemirror_mode": {
    "name": "ipython",
    "version": 3
   },
   "file_extension": ".py",
   "mimetype": "text/x-python",
   "name": "python",
   "nbconvert_exporter": "python",
   "pygments_lexer": "ipython3",
   "version": "3.13.0"
  }
 },
 "nbformat": 4,
 "nbformat_minor": 5
}
